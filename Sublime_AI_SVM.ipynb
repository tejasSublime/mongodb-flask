{
  "cells": [
    {
      "cell_type": "code",
      "execution_count": 1,
      "metadata": {
        "id": "uu2TOBua3mO6"
      },
      "outputs": [],
      "source": [
        "import pandas as pd\n",
        "import numpy as np\n",
        "import random"
      ]
    },
    {
      "cell_type": "code",
      "execution_count": 2,
      "metadata": {
        "colab": {
          "base_uri": "https://localhost:8080/"
        },
        "id": "tq-q1aFD3uNy",
        "outputId": "a0f060a4-6ddc-4b61-a58e-eed9785c1ab1"
      },
      "outputs": [
        {
          "name": "stdout",
          "output_type": "stream",
          "text": [
            "            r1         r2          r3          r4          r5          r6\n",
            "0    23.036682  68.752755   72.691650  223.079509  250.085233  354.635354\n",
            "1    20.120772  58.457619  117.132863  215.395120  270.843051  299.143576\n",
            "2    15.362143  37.185391  102.223653  214.508667  272.606983  330.340420\n",
            "3    10.364039  37.449689   71.369836  143.698502  289.466308  349.742760\n",
            "4     7.569237  38.605802   77.402751  221.528757  270.686541  323.468498\n",
            "..         ...        ...         ...         ...         ...         ...\n",
            "995  13.289631  59.426710   97.842550  188.039477  254.899481  295.899780\n",
            "996   0.203123  31.650911   76.618983  199.279255  270.357417  325.728692\n",
            "997  14.546784  61.122735   96.337034  205.981946  270.569351  310.944013\n",
            "998  14.912558  61.321209  121.020893  200.422833  263.190572  326.102356\n",
            "999  14.958116  51.645497   74.496959  135.676199  234.883407  300.555575\n",
            "\n",
            "[1000 rows x 6 columns]\n"
          ]
        }
      ],
      "source": [
        "raw_data=pd.DataFrame()\n",
        "# raw_data['r1']=np.linspace(1,30,1000)\n",
        "# raw_data['r2']=np.linspace(31,70,1000)\n",
        "# raw_data['r3']=np.linspace(71,130,1000)\n",
        "# raw_data['r4']=np.linspace(131,230,1000)\n",
        "# raw_data['r5']=np.linspace(231,290,1000)\n",
        "# raw_data['r6']=np.linspace(291,360,1000)\n",
        "\n",
        "raw_data['r1']=np.random.uniform(0, 30, 1000)\n",
        "raw_data['r2']=np.random.uniform(31, 70, 1000)\n",
        "raw_data['r3']=np.random.uniform(71, 130, 1000)\n",
        "raw_data['r4']=np.random.uniform(131, 230, 1000)\n",
        "raw_data['r5']=np.random.uniform(231,290,1000)\n",
        "raw_data['r6']=np.random.uniform(291,360,1000)\n",
        "print(raw_data)"
      ]
    },
    {
      "cell_type": "code",
      "execution_count": 3,
      "metadata": {
        "id": "RhzI5iPp3uez"
      },
      "outputs": [],
      "source": [
        "# categories=['Unripe','Early Ripe','Over Ripe','Partially Ripe']\n",
        "temp23=np.random.choice([1,2,3,4], 1000)\n",
        "\n",
        "# categories=['Unripe','Early Ripe','Over Ripe','Partially Ripe']\n",
        "# classes=[]\n",
        "\n",
        "# for _ in range(len(raw_data)):\n",
        "#   temp=np.random.choice(categories,1)\n",
        "#   classes.append(temp[0])\n",
        "# raw_data['Class']=classes\n",
        "temp23\n",
        "raw_data['Class']=temp23.astype(float)"
      ]
    },
    {
      "cell_type": "code",
      "execution_count": 4,
      "metadata": {
        "colab": {
          "base_uri": "https://localhost:8080/",
          "height": 206
        },
        "id": "--ZvmdoY3xCk",
        "outputId": "8d7bf2fc-4fb9-4dd6-a1f7-5e038353d156"
      },
      "outputs": [
        {
          "data": {
            "text/html": [
              "<div>\n",
              "<style scoped>\n",
              "    .dataframe tbody tr th:only-of-type {\n",
              "        vertical-align: middle;\n",
              "    }\n",
              "\n",
              "    .dataframe tbody tr th {\n",
              "        vertical-align: top;\n",
              "    }\n",
              "\n",
              "    .dataframe thead th {\n",
              "        text-align: right;\n",
              "    }\n",
              "</style>\n",
              "<table border=\"1\" class=\"dataframe\">\n",
              "  <thead>\n",
              "    <tr style=\"text-align: right;\">\n",
              "      <th></th>\n",
              "      <th>r1</th>\n",
              "      <th>r2</th>\n",
              "      <th>r3</th>\n",
              "      <th>r4</th>\n",
              "      <th>r5</th>\n",
              "      <th>r6</th>\n",
              "      <th>Class</th>\n",
              "    </tr>\n",
              "  </thead>\n",
              "  <tbody>\n",
              "    <tr>\n",
              "      <th>0</th>\n",
              "      <td>23.036682</td>\n",
              "      <td>68.752755</td>\n",
              "      <td>72.691650</td>\n",
              "      <td>223.079509</td>\n",
              "      <td>250.085233</td>\n",
              "      <td>354.635354</td>\n",
              "      <td>4.0</td>\n",
              "    </tr>\n",
              "    <tr>\n",
              "      <th>1</th>\n",
              "      <td>20.120772</td>\n",
              "      <td>58.457619</td>\n",
              "      <td>117.132863</td>\n",
              "      <td>215.395120</td>\n",
              "      <td>270.843051</td>\n",
              "      <td>299.143576</td>\n",
              "      <td>1.0</td>\n",
              "    </tr>\n",
              "    <tr>\n",
              "      <th>2</th>\n",
              "      <td>15.362143</td>\n",
              "      <td>37.185391</td>\n",
              "      <td>102.223653</td>\n",
              "      <td>214.508667</td>\n",
              "      <td>272.606983</td>\n",
              "      <td>330.340420</td>\n",
              "      <td>2.0</td>\n",
              "    </tr>\n",
              "    <tr>\n",
              "      <th>3</th>\n",
              "      <td>10.364039</td>\n",
              "      <td>37.449689</td>\n",
              "      <td>71.369836</td>\n",
              "      <td>143.698502</td>\n",
              "      <td>289.466308</td>\n",
              "      <td>349.742760</td>\n",
              "      <td>2.0</td>\n",
              "    </tr>\n",
              "    <tr>\n",
              "      <th>4</th>\n",
              "      <td>7.569237</td>\n",
              "      <td>38.605802</td>\n",
              "      <td>77.402751</td>\n",
              "      <td>221.528757</td>\n",
              "      <td>270.686541</td>\n",
              "      <td>323.468498</td>\n",
              "      <td>1.0</td>\n",
              "    </tr>\n",
              "  </tbody>\n",
              "</table>\n",
              "</div>"
            ],
            "text/plain": [
              "          r1         r2          r3          r4          r5          r6  Class\n",
              "0  23.036682  68.752755   72.691650  223.079509  250.085233  354.635354    4.0\n",
              "1  20.120772  58.457619  117.132863  215.395120  270.843051  299.143576    1.0\n",
              "2  15.362143  37.185391  102.223653  214.508667  272.606983  330.340420    2.0\n",
              "3  10.364039  37.449689   71.369836  143.698502  289.466308  349.742760    2.0\n",
              "4   7.569237  38.605802   77.402751  221.528757  270.686541  323.468498    1.0"
            ]
          },
          "execution_count": 4,
          "metadata": {},
          "output_type": "execute_result"
        }
      ],
      "source": [
        "raw_data.head()"
      ]
    },
    {
      "cell_type": "code",
      "execution_count": 5,
      "metadata": {
        "colab": {
          "base_uri": "https://localhost:8080/"
        },
        "id": "sZ5-sgoQ3ySN",
        "outputId": "a13d8b4e-8c07-4aa3-b00c-1cadc592fdc7"
      },
      "outputs": [
        {
          "data": {
            "text/plain": [
              "array([[ 9.53933329e-01,  1.64295241e+00, -1.63858735e+00,\n",
              "         1.47092935e+00, -5.82104087e-01,  1.45006428e+00],\n",
              "       [ 6.09483809e-01,  7.01246904e-01,  9.66298599e-01,\n",
              "         1.20362310e+00,  6.35410813e-01, -1.30617122e+00],\n",
              "       [ 4.73582519e-02, -1.24454304e+00,  9.24072619e-02,\n",
              "         1.17278729e+00,  7.38871311e-01,  2.43352913e-01],\n",
              "       ...,\n",
              "       [-4.89581954e-02,  9.45027496e-01, -2.52632148e-01,\n",
              "         8.76180010e-01,  6.19357409e-01, -7.20052263e-01],\n",
              "       [-5.75023206e-03,  9.63182116e-01,  1.19419238e+00,\n",
              "         6.82802799e-01,  1.86567561e-01,  3.28514148e-02],\n",
              "       [-3.68477914e-04,  7.81359308e-02, -1.53277059e+00,\n",
              "        -1.56944899e+00, -1.47374164e+00, -1.23603828e+00]])"
            ]
          },
          "execution_count": 5,
          "metadata": {},
          "output_type": "execute_result"
        }
      ],
      "source": [
        "from sklearn.preprocessing import StandardScaler\n",
        "X_columns=['r1', 'r2', 'r3', 'r4', 'r5', 'r6']\n",
        "X=raw_data[X_columns]\n",
        "scaler = StandardScaler()\n",
        "scaler.fit(X)\n",
        "scaled_features = scaler.transform(X)\n",
        "scaled_features\n"
      ]
    },
    {
      "cell_type": "code",
      "execution_count": 6,
      "metadata": {
        "colab": {
          "base_uri": "https://localhost:8080/",
          "height": 206
        },
        "id": "7yXtHrlb34lf",
        "outputId": "bb17375b-8d79-4c46-d33a-f1f028b4feda"
      },
      "outputs": [
        {
          "data": {
            "text/html": [
              "<div>\n",
              "<style scoped>\n",
              "    .dataframe tbody tr th:only-of-type {\n",
              "        vertical-align: middle;\n",
              "    }\n",
              "\n",
              "    .dataframe tbody tr th {\n",
              "        vertical-align: top;\n",
              "    }\n",
              "\n",
              "    .dataframe thead th {\n",
              "        text-align: right;\n",
              "    }\n",
              "</style>\n",
              "<table border=\"1\" class=\"dataframe\">\n",
              "  <thead>\n",
              "    <tr style=\"text-align: right;\">\n",
              "      <th></th>\n",
              "      <th>r1</th>\n",
              "      <th>r2</th>\n",
              "      <th>r3</th>\n",
              "      <th>r4</th>\n",
              "      <th>r5</th>\n",
              "      <th>r6</th>\n",
              "    </tr>\n",
              "  </thead>\n",
              "  <tbody>\n",
              "    <tr>\n",
              "      <th>0</th>\n",
              "      <td>0.953933</td>\n",
              "      <td>1.642952</td>\n",
              "      <td>-1.638587</td>\n",
              "      <td>1.470929</td>\n",
              "      <td>-0.582104</td>\n",
              "      <td>1.450064</td>\n",
              "    </tr>\n",
              "    <tr>\n",
              "      <th>1</th>\n",
              "      <td>0.609484</td>\n",
              "      <td>0.701247</td>\n",
              "      <td>0.966299</td>\n",
              "      <td>1.203623</td>\n",
              "      <td>0.635411</td>\n",
              "      <td>-1.306171</td>\n",
              "    </tr>\n",
              "    <tr>\n",
              "      <th>2</th>\n",
              "      <td>0.047358</td>\n",
              "      <td>-1.244543</td>\n",
              "      <td>0.092407</td>\n",
              "      <td>1.172787</td>\n",
              "      <td>0.738871</td>\n",
              "      <td>0.243353</td>\n",
              "    </tr>\n",
              "    <tr>\n",
              "      <th>3</th>\n",
              "      <td>-0.543056</td>\n",
              "      <td>-1.220367</td>\n",
              "      <td>-1.716064</td>\n",
              "      <td>-1.290388</td>\n",
              "      <td>1.727727</td>\n",
              "      <td>1.207053</td>\n",
              "    </tr>\n",
              "    <tr>\n",
              "      <th>4</th>\n",
              "      <td>-0.873199</td>\n",
              "      <td>-1.114617</td>\n",
              "      <td>-1.362450</td>\n",
              "      <td>1.416985</td>\n",
              "      <td>0.626231</td>\n",
              "      <td>-0.097970</td>\n",
              "    </tr>\n",
              "  </tbody>\n",
              "</table>\n",
              "</div>"
            ],
            "text/plain": [
              "         r1        r2        r3        r4        r5        r6\n",
              "0  0.953933  1.642952 -1.638587  1.470929 -0.582104  1.450064\n",
              "1  0.609484  0.701247  0.966299  1.203623  0.635411 -1.306171\n",
              "2  0.047358 -1.244543  0.092407  1.172787  0.738871  0.243353\n",
              "3 -0.543056 -1.220367 -1.716064 -1.290388  1.727727  1.207053\n",
              "4 -0.873199 -1.114617 -1.362450  1.416985  0.626231 -0.097970"
            ]
          },
          "execution_count": 6,
          "metadata": {},
          "output_type": "execute_result"
        }
      ],
      "source": [
        "df_feat = pd.DataFrame(scaled_features,columns=X_columns)\n",
        "df_feat.head()"
      ]
    },
    {
      "cell_type": "code",
      "execution_count": 7,
      "metadata": {
        "colab": {
          "base_uri": "https://localhost:8080/"
        },
        "id": "_w6yu8Dd36Pm",
        "outputId": "eb6e55c5-7687-4531-ac46-3ade516a47e9"
      },
      "outputs": [
        {
          "data": {
            "text/plain": [
              "r1       float64\n",
              "r2       float64\n",
              "r3       float64\n",
              "r4       float64\n",
              "r5       float64\n",
              "r6       float64\n",
              "Class    float64\n",
              "dtype: object"
            ]
          },
          "execution_count": 7,
          "metadata": {},
          "output_type": "execute_result"
        }
      ],
      "source": [
        "raw_data.dtypes"
      ]
    },
    {
      "cell_type": "code",
      "execution_count": 8,
      "metadata": {
        "colab": {
          "base_uri": "https://localhost:8080/",
          "height": 206
        },
        "id": "vK5s9zen4Dy2",
        "outputId": "4d54e503-3f17-4575-abf3-3130e9eed7e7"
      },
      "outputs": [
        {
          "data": {
            "text/html": [
              "<div>\n",
              "<style scoped>\n",
              "    .dataframe tbody tr th:only-of-type {\n",
              "        vertical-align: middle;\n",
              "    }\n",
              "\n",
              "    .dataframe tbody tr th {\n",
              "        vertical-align: top;\n",
              "    }\n",
              "\n",
              "    .dataframe thead th {\n",
              "        text-align: right;\n",
              "    }\n",
              "</style>\n",
              "<table border=\"1\" class=\"dataframe\">\n",
              "  <thead>\n",
              "    <tr style=\"text-align: right;\">\n",
              "      <th></th>\n",
              "      <th>r1</th>\n",
              "      <th>r2</th>\n",
              "      <th>r3</th>\n",
              "      <th>r4</th>\n",
              "      <th>r5</th>\n",
              "      <th>r6</th>\n",
              "      <th>Class</th>\n",
              "    </tr>\n",
              "  </thead>\n",
              "  <tbody>\n",
              "    <tr>\n",
              "      <th>0</th>\n",
              "      <td>23.036682</td>\n",
              "      <td>68.752755</td>\n",
              "      <td>72.691650</td>\n",
              "      <td>223.079509</td>\n",
              "      <td>250.085233</td>\n",
              "      <td>354.635354</td>\n",
              "      <td>4.0</td>\n",
              "    </tr>\n",
              "    <tr>\n",
              "      <th>1</th>\n",
              "      <td>20.120772</td>\n",
              "      <td>58.457619</td>\n",
              "      <td>117.132863</td>\n",
              "      <td>215.395120</td>\n",
              "      <td>270.843051</td>\n",
              "      <td>299.143576</td>\n",
              "      <td>1.0</td>\n",
              "    </tr>\n",
              "    <tr>\n",
              "      <th>2</th>\n",
              "      <td>15.362143</td>\n",
              "      <td>37.185391</td>\n",
              "      <td>102.223653</td>\n",
              "      <td>214.508667</td>\n",
              "      <td>272.606983</td>\n",
              "      <td>330.340420</td>\n",
              "      <td>2.0</td>\n",
              "    </tr>\n",
              "    <tr>\n",
              "      <th>3</th>\n",
              "      <td>10.364039</td>\n",
              "      <td>37.449689</td>\n",
              "      <td>71.369836</td>\n",
              "      <td>143.698502</td>\n",
              "      <td>289.466308</td>\n",
              "      <td>349.742760</td>\n",
              "      <td>2.0</td>\n",
              "    </tr>\n",
              "    <tr>\n",
              "      <th>4</th>\n",
              "      <td>7.569237</td>\n",
              "      <td>38.605802</td>\n",
              "      <td>77.402751</td>\n",
              "      <td>221.528757</td>\n",
              "      <td>270.686541</td>\n",
              "      <td>323.468498</td>\n",
              "      <td>1.0</td>\n",
              "    </tr>\n",
              "  </tbody>\n",
              "</table>\n",
              "</div>"
            ],
            "text/plain": [
              "          r1         r2          r3          r4          r5          r6  Class\n",
              "0  23.036682  68.752755   72.691650  223.079509  250.085233  354.635354    4.0\n",
              "1  20.120772  58.457619  117.132863  215.395120  270.843051  299.143576    1.0\n",
              "2  15.362143  37.185391  102.223653  214.508667  272.606983  330.340420    2.0\n",
              "3  10.364039  37.449689   71.369836  143.698502  289.466308  349.742760    2.0\n",
              "4   7.569237  38.605802   77.402751  221.528757  270.686541  323.468498    1.0"
            ]
          },
          "execution_count": 8,
          "metadata": {},
          "output_type": "execute_result"
        }
      ],
      "source": [
        "raw_data.head()"
      ]
    },
    {
      "cell_type": "code",
      "execution_count": 9,
      "metadata": {
        "colab": {
          "base_uri": "https://localhost:8080/",
          "height": 206
        },
        "id": "67Dp4gQl4HZM",
        "outputId": "3398ccbb-d8ca-480b-9b98-b9ba556a43f6"
      },
      "outputs": [
        {
          "data": {
            "text/html": [
              "<div>\n",
              "<style scoped>\n",
              "    .dataframe tbody tr th:only-of-type {\n",
              "        vertical-align: middle;\n",
              "    }\n",
              "\n",
              "    .dataframe tbody tr th {\n",
              "        vertical-align: top;\n",
              "    }\n",
              "\n",
              "    .dataframe thead th {\n",
              "        text-align: right;\n",
              "    }\n",
              "</style>\n",
              "<table border=\"1\" class=\"dataframe\">\n",
              "  <thead>\n",
              "    <tr style=\"text-align: right;\">\n",
              "      <th></th>\n",
              "      <th>r1</th>\n",
              "      <th>r2</th>\n",
              "      <th>r3</th>\n",
              "      <th>r4</th>\n",
              "      <th>r5</th>\n",
              "      <th>r6</th>\n",
              "      <th>Class</th>\n",
              "    </tr>\n",
              "  </thead>\n",
              "  <tbody>\n",
              "    <tr>\n",
              "      <th>995</th>\n",
              "      <td>13.289631</td>\n",
              "      <td>59.426710</td>\n",
              "      <td>97.842550</td>\n",
              "      <td>188.039477</td>\n",
              "      <td>254.899481</td>\n",
              "      <td>295.899780</td>\n",
              "      <td>2.0</td>\n",
              "    </tr>\n",
              "    <tr>\n",
              "      <th>996</th>\n",
              "      <td>0.203123</td>\n",
              "      <td>31.650911</td>\n",
              "      <td>76.618983</td>\n",
              "      <td>199.279255</td>\n",
              "      <td>270.357417</td>\n",
              "      <td>325.728692</td>\n",
              "      <td>4.0</td>\n",
              "    </tr>\n",
              "    <tr>\n",
              "      <th>997</th>\n",
              "      <td>14.546784</td>\n",
              "      <td>61.122735</td>\n",
              "      <td>96.337034</td>\n",
              "      <td>205.981946</td>\n",
              "      <td>270.569351</td>\n",
              "      <td>310.944013</td>\n",
              "      <td>3.0</td>\n",
              "    </tr>\n",
              "    <tr>\n",
              "      <th>998</th>\n",
              "      <td>14.912558</td>\n",
              "      <td>61.321209</td>\n",
              "      <td>121.020893</td>\n",
              "      <td>200.422833</td>\n",
              "      <td>263.190572</td>\n",
              "      <td>326.102356</td>\n",
              "      <td>4.0</td>\n",
              "    </tr>\n",
              "    <tr>\n",
              "      <th>999</th>\n",
              "      <td>14.958116</td>\n",
              "      <td>51.645497</td>\n",
              "      <td>74.496959</td>\n",
              "      <td>135.676199</td>\n",
              "      <td>234.883407</td>\n",
              "      <td>300.555575</td>\n",
              "      <td>2.0</td>\n",
              "    </tr>\n",
              "  </tbody>\n",
              "</table>\n",
              "</div>"
            ],
            "text/plain": [
              "            r1         r2          r3          r4          r5          r6  \\\n",
              "995  13.289631  59.426710   97.842550  188.039477  254.899481  295.899780   \n",
              "996   0.203123  31.650911   76.618983  199.279255  270.357417  325.728692   \n",
              "997  14.546784  61.122735   96.337034  205.981946  270.569351  310.944013   \n",
              "998  14.912558  61.321209  121.020893  200.422833  263.190572  326.102356   \n",
              "999  14.958116  51.645497   74.496959  135.676199  234.883407  300.555575   \n",
              "\n",
              "     Class  \n",
              "995    2.0  \n",
              "996    4.0  \n",
              "997    3.0  \n",
              "998    4.0  \n",
              "999    2.0  "
            ]
          },
          "execution_count": 9,
          "metadata": {},
          "output_type": "execute_result"
        }
      ],
      "source": [
        "raw_data.tail()"
      ]
    },
    {
      "cell_type": "code",
      "execution_count": 10,
      "metadata": {
        "colab": {
          "base_uri": "https://localhost:8080/"
        },
        "id": "Wxo22ANg4JCR",
        "outputId": "1494f909-16b4-423e-c890-fe2992f5f024"
      },
      "outputs": [
        {
          "data": {
            "text/plain": [
              "Class\n",
              "3.0    270\n",
              "1.0    247\n",
              "4.0    245\n",
              "2.0    238\n",
              "Name: count, dtype: int64"
            ]
          },
          "execution_count": 10,
          "metadata": {},
          "output_type": "execute_result"
        }
      ],
      "source": [
        "raw_data['Class'].value_counts()"
      ]
    },
    {
      "cell_type": "code",
      "execution_count": 11,
      "metadata": {
        "id": "Pkjpo4Dt4fTM"
      },
      "outputs": [],
      "source": [
        "# raw_data['Class'] = pd.to_numeric(raw_data['Class'],errors='coerce').notnull()\n",
        "# raw_data['Class'] = raw_data['Class'].astype('float')\n",
        "# raw_data.dtypes"
      ]
    },
    {
      "cell_type": "code",
      "execution_count": 12,
      "metadata": {
        "colab": {
          "base_uri": "https://localhost:8080/"
        },
        "id": "xbhYxQ2t4xZW",
        "outputId": "e2a28bed-9610-4253-c4df-ef948169b2b8"
      },
      "outputs": [
        {
          "data": {
            "text/plain": [
              "Class\n",
              "3.0    270\n",
              "1.0    247\n",
              "4.0    245\n",
              "2.0    238\n",
              "Name: count, dtype: int64"
            ]
          },
          "execution_count": 12,
          "metadata": {},
          "output_type": "execute_result"
        }
      ],
      "source": [
        "raw_data['Class'].value_counts()"
      ]
    },
    {
      "cell_type": "code",
      "execution_count": 13,
      "metadata": {
        "colab": {
          "base_uri": "https://localhost:8080/",
          "height": 449
        },
        "id": "mdlJkNQY4LoW",
        "outputId": "db928441-5fb5-4099-818e-378b42a7949d"
      },
      "outputs": [
        {
          "data": {
            "image/png": "[encoded data removed]",
            "text/plain": [
              "<Figure size 640x480 with 1 Axes>"
            ]
          },
          "metadata": {},
          "output_type": "display_data"
        }
      ],
      "source": [
        "import matplotlib.pyplot as plt\n",
        "\n",
        "Early_Ripe_df=raw_data[raw_data['Class']==1.0][0:200]\n",
        "Unripe_df=raw_data[raw_data['Class']==2.0][0:200]\n",
        "Partially_Ripe_df=raw_data[raw_data['Class']==3.0][0:200]\n",
        "Over_Ripe_df=raw_data[raw_data['Class']==4.0][0:200]\n",
        "\n",
        "# axes1 = Early_Ripe_df.plot(kind='scatter',x='r1',y='r2',color='red',label='Early_Ripe')\n",
        "# axes2 = Unripe_df.plot(kind='scatter',x='r1',y='r2',color='blue',label='Unripe')\n",
        "# axes3 = Partially_Ripe_df.plot(kind='scatter',x='r1',y='r2',color='green',label='Partially_Ripe')\n",
        "# Over_Ripe_df.plot(kind='scatter',x='r1',y='r2',color='yellow',label='Over_Ripe', ax= (axes1,axes2,axes3))\n",
        "\n",
        "fig, ax = plt.subplots()\n",
        "\n",
        "# Scatter plots for each class\n",
        "Early_Ripe_df.plot(kind='scatter', x='r1', y='r2', color='red', label='Early_Ripe', ax=ax)\n",
        "Unripe_df.plot(kind='scatter', x='r1', y='r2', color='blue', label='Unripe', ax=ax)\n",
        "Partially_Ripe_df.plot(kind='scatter', x='r1', y='r2', color='green', label='Partially_Ripe', ax=ax)\n",
        "Over_Ripe_df.plot(kind='scatter', x='r1', y='r2', color='yellow', label='Over_Ripe', ax=ax)\n",
        "\n",
        "# Show the legend\n",
        "ax.legend()\n",
        "\n",
        "# Show the plot\n",
        "plt.show()"
      ]
    },
    {
      "cell_type": "code",
      "execution_count": 14,
      "metadata": {
        "colab": {
          "base_uri": "https://localhost:8080/"
        },
        "id": "lCqJy5SC6mph",
        "outputId": "d921c1ac-1db1-40ff-a767-8890084492a1"
      },
      "outputs": [
        {
          "data": {
            "text/plain": [
              "r1       float64\n",
              "r2       float64\n",
              "r3       float64\n",
              "r4       float64\n",
              "r5       float64\n",
              "r6       float64\n",
              "Class    float64\n",
              "dtype: object"
            ]
          },
          "execution_count": 14,
          "metadata": {},
          "output_type": "execute_result"
        }
      ],
      "source": [
        "raw_data.dtypes"
      ]
    },
    {
      "cell_type": "code",
      "execution_count": 15,
      "metadata": {
        "colab": {
          "base_uri": "https://localhost:8080/"
        },
        "id": "iJBgB8d08qmk",
        "outputId": "080c5238-4255-4ffe-c699-759fe11bb107"
      },
      "outputs": [
        {
          "data": {
            "text/plain": [
              "Index(['r1', 'r2', 'r3', 'r4', 'r5', 'r6', 'Class'], dtype='object')"
            ]
          },
          "execution_count": 15,
          "metadata": {},
          "output_type": "execute_result"
        }
      ],
      "source": [
        "raw_data.columns"
      ]
    },
    {
      "cell_type": "code",
      "execution_count": 16,
      "metadata": {
        "colab": {
          "base_uri": "https://localhost:8080/",
          "height": 206
        },
        "id": "2wCAVZM39ED4",
        "outputId": "6d684de1-c40f-46ff-ab0e-45b725c4bea7"
      },
      "outputs": [
        {
          "data": {
            "text/html": [
              "<div>\n",
              "<style scoped>\n",
              "    .dataframe tbody tr th:only-of-type {\n",
              "        vertical-align: middle;\n",
              "    }\n",
              "\n",
              "    .dataframe tbody tr th {\n",
              "        vertical-align: top;\n",
              "    }\n",
              "\n",
              "    .dataframe thead th {\n",
              "        text-align: right;\n",
              "    }\n",
              "</style>\n",
              "<table border=\"1\" class=\"dataframe\">\n",
              "  <thead>\n",
              "    <tr style=\"text-align: right;\">\n",
              "      <th></th>\n",
              "      <th>r1</th>\n",
              "      <th>r2</th>\n",
              "      <th>r3</th>\n",
              "      <th>r4</th>\n",
              "      <th>r5</th>\n",
              "      <th>r6</th>\n",
              "    </tr>\n",
              "  </thead>\n",
              "  <tbody>\n",
              "    <tr>\n",
              "      <th>0</th>\n",
              "      <td>23.036682</td>\n",
              "      <td>68.752755</td>\n",
              "      <td>72.691650</td>\n",
              "      <td>223.079509</td>\n",
              "      <td>250.085233</td>\n",
              "      <td>354.635354</td>\n",
              "    </tr>\n",
              "    <tr>\n",
              "      <th>1</th>\n",
              "      <td>20.120772</td>\n",
              "      <td>58.457619</td>\n",
              "      <td>117.132863</td>\n",
              "      <td>215.395120</td>\n",
              "      <td>270.843051</td>\n",
              "      <td>299.143576</td>\n",
              "    </tr>\n",
              "    <tr>\n",
              "      <th>2</th>\n",
              "      <td>15.362143</td>\n",
              "      <td>37.185391</td>\n",
              "      <td>102.223653</td>\n",
              "      <td>214.508667</td>\n",
              "      <td>272.606983</td>\n",
              "      <td>330.340420</td>\n",
              "    </tr>\n",
              "    <tr>\n",
              "      <th>3</th>\n",
              "      <td>10.364039</td>\n",
              "      <td>37.449689</td>\n",
              "      <td>71.369836</td>\n",
              "      <td>143.698502</td>\n",
              "      <td>289.466308</td>\n",
              "      <td>349.742760</td>\n",
              "    </tr>\n",
              "    <tr>\n",
              "      <th>4</th>\n",
              "      <td>7.569237</td>\n",
              "      <td>38.605802</td>\n",
              "      <td>77.402751</td>\n",
              "      <td>221.528757</td>\n",
              "      <td>270.686541</td>\n",
              "      <td>323.468498</td>\n",
              "    </tr>\n",
              "  </tbody>\n",
              "</table>\n",
              "</div>"
            ],
            "text/plain": [
              "          r1         r2          r3          r4          r5          r6\n",
              "0  23.036682  68.752755   72.691650  223.079509  250.085233  354.635354\n",
              "1  20.120772  58.457619  117.132863  215.395120  270.843051  299.143576\n",
              "2  15.362143  37.185391  102.223653  214.508667  272.606983  330.340420\n",
              "3  10.364039  37.449689   71.369836  143.698502  289.466308  349.742760\n",
              "4   7.569237  38.605802   77.402751  221.528757  270.686541  323.468498"
            ]
          },
          "execution_count": 16,
          "metadata": {},
          "output_type": "execute_result"
        }
      ],
      "source": [
        "feature_df= raw_data[['r1', 'r2', 'r3', 'r4', 'r5', 'r6']]\n",
        "feature_df.head()"
      ]
    },
    {
      "cell_type": "code",
      "execution_count": 17,
      "metadata": {
        "colab": {
          "base_uri": "https://localhost:8080/"
        },
        "id": "fBTG974e9ITf",
        "outputId": "45e78a92-4583-4b12-ce40-b7669538820a"
      },
      "outputs": [
        {
          "data": {
            "text/plain": [
              "6000"
            ]
          },
          "execution_count": 17,
          "metadata": {},
          "output_type": "execute_result"
        }
      ],
      "source": [
        "X= np.asarray(feature_df)\n",
        "X.size"
      ]
    },
    {
      "cell_type": "code",
      "execution_count": 18,
      "metadata": {
        "colab": {
          "base_uri": "https://localhost:8080/"
        },
        "id": "LekzQKuD9L4j",
        "outputId": "254b497c-6d5a-4846-a53c-1ed802cae01c"
      },
      "outputs": [
        {
          "data": {
            "text/plain": [
              "1000"
            ]
          },
          "execution_count": 18,
          "metadata": {},
          "output_type": "execute_result"
        }
      ],
      "source": [
        "y=np.asarray(raw_data['Class'])\n",
        "y.size"
      ]
    },
    {
      "cell_type": "code",
      "execution_count": 19,
      "metadata": {
        "colab": {
          "base_uri": "https://localhost:8080/"
        },
        "id": "wiVsZark9NbU",
        "outputId": "511c02d5-bc12-4273-e935-9cc2cbba7f20"
      },
      "outputs": [
        {
          "data": {
            "text/plain": [
              "(550, 6)"
            ]
          },
          "execution_count": 19,
          "metadata": {},
          "output_type": "execute_result"
        }
      ],
      "source": [
        "from sklearn.model_selection import train_test_split\n",
        "X_train, X_test, y_train, y_test = train_test_split(X,y,test_size=0.45,random_state=25)\n",
        "X_train.shape"
      ]
    },
    {
      "cell_type": "code",
      "execution_count": 20,
      "metadata": {
        "colab": {
          "base_uri": "https://localhost:8080/"
        },
        "id": "FNftM8y79aTM",
        "outputId": "f577710d-c625-4bd2-8c08-f32c3e9f3e95"
      },
      "outputs": [
        {
          "data": {
            "text/plain": [
              "(550,)"
            ]
          },
          "execution_count": 20,
          "metadata": {},
          "output_type": "execute_result"
        }
      ],
      "source": [
        "y_train.shape"
      ]
    },
    {
      "cell_type": "code",
      "execution_count": 21,
      "metadata": {
        "colab": {
          "base_uri": "https://localhost:8080/"
        },
        "id": "EZr0LeAp9byS",
        "outputId": "1b04784a-fdcb-48bf-fb8c-bf60dc288a9c"
      },
      "outputs": [
        {
          "data": {
            "text/plain": [
              "(450, 6)"
            ]
          },
          "execution_count": 21,
          "metadata": {},
          "output_type": "execute_result"
        }
      ],
      "source": [
        "X_test.shape"
      ]
    },
    {
      "cell_type": "code",
      "execution_count": 22,
      "metadata": {
        "colab": {
          "base_uri": "https://localhost:8080/"
        },
        "id": "0TDpC8uk9c5O",
        "outputId": "1f38eced-ad52-4034-e689-16e14fb7b5f6"
      },
      "outputs": [
        {
          "data": {
            "text/plain": [
              "(450,)"
            ]
          },
          "execution_count": 22,
          "metadata": {},
          "output_type": "execute_result"
        }
      ],
      "source": [
        "y_test.shape"
      ]
    },
    {
      "cell_type": "code",
      "execution_count": 23,
      "metadata": {
        "colab": {
          "base_uri": "https://localhost:8080/"
        },
        "id": "HU1jGwbI9eLh",
        "outputId": "cbe0fdc5-a10b-4c86-cb3a-5db20141ef27"
      },
      "outputs": [
        {
          "data": {
            "text/plain": [
              "(550, 6)"
            ]
          },
          "execution_count": 23,
          "metadata": {},
          "output_type": "execute_result"
        }
      ],
      "source": [
        "X_train.shape"
      ]
    },
    {
      "cell_type": "code",
      "execution_count": 24,
      "metadata": {
        "id": "UEr7EclC9hPK"
      },
      "outputs": [],
      "source": [
        "from sklearn import svm\n",
        "\n",
        "#SVC - support vector classifier - those data points near to the hyperplace and are pendicular .If we sum the sum nearby points of hyperplane and maximise the distance . those\n",
        "\n",
        "\n",
        "\n",
        "# Types of SVC\n",
        "# Linear\n",
        "# polynomial\n",
        "# radial basis function\n",
        "# Sigmoid\n",
        "\n",
        "# Gamma - kernel coefficients\n",
        "# C - penaltity for incorrect data points\n",
        "\n",
        "Classifier= svm.SVC(kernel='linear', gamma='auto', C=2)"
      ]
    },
    {
      "cell_type": "code",
      "execution_count": 25,
      "metadata": {
        "id": "3klZnqLS9jny"
      },
      "outputs": [],
      "source": [
        "Classifier.fit(X_train,y_train)\n",
        "y_predict= Classifier.predict(X_test)\n"
      ]
    },
    {
      "cell_type": "code",
      "execution_count": 26,
      "metadata": {
        "colab": {
          "base_uri": "https://localhost:8080/"
        },
        "id": "WF4122RX9m15",
        "outputId": "f8c90ecd-82bd-4c38-bdfb-574e7b263cc9"
      },
      "outputs": [
        {
          "name": "stdout",
          "output_type": "stream",
          "text": [
            "              precision    recall  f1-score   support\n",
            "\n",
            "         1.0       0.26      0.37      0.31       114\n",
            "         2.0       0.22      0.28      0.25       102\n",
            "         3.0       0.30      0.39      0.34       123\n",
            "         4.0       0.00      0.00      0.00       111\n",
            "\n",
            "    accuracy                           0.26       450\n",
            "   macro avg       0.20      0.26      0.22       450\n",
            "weighted avg       0.20      0.26      0.23       450\n",
            "\n",
            "[[42 36 36  0]\n",
            " [39 29 34  0]\n",
            " [43 32 48  0]\n",
            " [35 32 44  0]]\n"
          ]
        },
        {
          "name": "stderr",
          "output_type": "stream",
          "text": [
            "d:\\flaskMongo\\env\\Lib\\site-packages\\sklearn\\metrics\\_classification.py:1471: UndefinedMetricWarning: Precision and F-score are ill-defined and being set to 0.0 in labels with no predicted samples. Use `zero_division` parameter to control this behavior.\n",
            "  _warn_prf(average, modifier, msg_start, len(result))\n",
            "d:\\flaskMongo\\env\\Lib\\site-packages\\sklearn\\metrics\\_classification.py:1471: UndefinedMetricWarning: Precision and F-score are ill-defined and being set to 0.0 in labels with no predicted samples. Use `zero_division` parameter to control this behavior.\n",
            "  _warn_prf(average, modifier, msg_start, len(result))\n",
            "d:\\flaskMongo\\env\\Lib\\site-packages\\sklearn\\metrics\\_classification.py:1471: UndefinedMetricWarning: Precision and F-score are ill-defined and being set to 0.0 in labels with no predicted samples. Use `zero_division` parameter to control this behavior.\n",
            "  _warn_prf(average, modifier, msg_start, len(result))\n"
          ]
        }
      ],
      "source": [
        "from sklearn.metrics import classification_report,confusion_matrix\n",
        "print(classification_report(y_test,y_predict))\n",
        "print(confusion_matrix(y_test,y_predict))"
      ]
    },
    {
      "cell_type": "code",
      "execution_count": null,
      "metadata": {
        "id": "32XErtn_9pf9"
      },
      "outputs": [],
      "source": []
    }
  ],
  "metadata": {
    "colab": {
      "provenance": []
    },
    "kernelspec": {
      "display_name": "Python 3",
      "name": "python3"
    },
    "language_info": {
      "codemirror_mode": {
        "name": "ipython",
        "version": 3
      },
      "file_extension": ".py",
      "mimetype": "text/x-python",
      "name": "python",
      "nbconvert_exporter": "python",
      "pygments_lexer": "ipython3",
      "version": "3.11.4"
    }
  },
  "nbformat": 4,
  "nbformat_minor": 0
}
